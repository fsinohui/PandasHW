{
 "cells": [
  {
   "cell_type": "markdown",
   "metadata": {},
   "source": [
    "Heroes of Pymoli Data Analysis\n",
    "1. Most of the players are male, at Least 80% but per capita they only spend slightly more than females. \n",
    "2. Most of their players are between the age of 15-24 but no matter the age the spending habits are the same\n",
    "3. Only 2 of the most popular items are in the top five most lucrative"
   ]
  },
  {
   "cell_type": "code",
   "execution_count": 2,
   "metadata": {
    "collapsed": true
   },
   "outputs": [],
   "source": [
    "import pandas as pd\n",
    "import numpy as np\n",
    "import json"
   ]
  },
  {
   "cell_type": "code",
   "execution_count": 3,
   "metadata": {
    "collapsed": true
   },
   "outputs": [],
   "source": [
    "#path of .json file\n",
    "path_purch_data1='resources/purchase_data.json'\n",
    "path_purch_data2='resources/purchase_data2.json'"
   ]
  },
  {
   "cell_type": "code",
   "execution_count": 4,
   "metadata": {
    "collapsed": true,
    "scrolled": false
   },
   "outputs": [],
   "source": [
    "# Open .json read and convert to df\n",
    "with open(path_purch_data1) as f:\n",
    "   data = json.load(f)\n",
    "purch_df = pd.DataFrame(data)\n",
    "\n",
    "with open(path_purch_data2) as f:\n",
    "   data2 = json.load(f)\n",
    "purch2_df = pd.DataFrame(data2)"
   ]
  },
  {
   "cell_type": "code",
   "execution_count": 62,
   "metadata": {},
   "outputs": [],
   "source": [
    "purch_df = purch_df.append(purch2_df)\n",
    "purch_df = purch_df.reset_index(drop=True)\n",
    "#purch_df.head(2)"
   ]
  },
  {
   "cell_type": "code",
   "execution_count": 61,
   "metadata": {},
   "outputs": [],
   "source": [
    "# List Headers for Reference\n",
    "#list(purch_df)"
   ]
  },
  {
   "cell_type": "code",
   "execution_count": 8,
   "metadata": {},
   "outputs": [],
   "source": [
    "# Export to Excel to check answers\n",
    "writer = pd.ExcelWriter('Heroes_of_Pymoli.xlsx')\n",
    "purch_df.to_excel(writer,'Data')\n",
    "writer.save()"
   ]
  },
  {
   "cell_type": "code",
   "execution_count": 9,
   "metadata": {},
   "outputs": [
    {
     "data": {
      "text/html": [
       "<div>\n",
       "<style>\n",
       "    .dataframe thead tr:only-child th {\n",
       "        text-align: right;\n",
       "    }\n",
       "\n",
       "    .dataframe thead th {\n",
       "        text-align: left;\n",
       "    }\n",
       "\n",
       "    .dataframe tbody tr th {\n",
       "        vertical-align: top;\n",
       "    }\n",
       "</style>\n",
       "<table border=\"1\" class=\"dataframe\">\n",
       "  <thead>\n",
       "    <tr style=\"text-align: right;\">\n",
       "      <th></th>\n",
       "      <th>Total_Players</th>\n",
       "    </tr>\n",
       "  </thead>\n",
       "  <tbody>\n",
       "    <tr>\n",
       "      <th>0</th>\n",
       "      <td>612</td>\n",
       "    </tr>\n",
       "  </tbody>\n",
       "</table>\n",
       "</div>"
      ],
      "text/plain": [
       "   Total_Players\n",
       "0            612"
      ]
     },
     "execution_count": 9,
     "metadata": {},
     "output_type": "execute_result"
    }
   ],
   "source": [
    "player_cnt = len(purch_df.groupby('SN'))\n",
    "player_cnt_lst = {'Total_Players': [player_cnt]}\n",
    "player_cnt_df = pd.DataFrame(data=player_cnt_lst)\n",
    "player_cnt_df"
   ]
  },
  {
   "cell_type": "code",
   "execution_count": 10,
   "metadata": {},
   "outputs": [
    {
     "data": {
      "text/html": [
       "<div>\n",
       "<style>\n",
       "    .dataframe thead tr:only-child th {\n",
       "        text-align: right;\n",
       "    }\n",
       "\n",
       "    .dataframe thead th {\n",
       "        text-align: left;\n",
       "    }\n",
       "\n",
       "    .dataframe tbody tr th {\n",
       "        vertical-align: top;\n",
       "    }\n",
       "</style>\n",
       "<table border=\"1\" class=\"dataframe\">\n",
       "  <thead>\n",
       "    <tr style=\"text-align: right;\">\n",
       "      <th></th>\n",
       "      <th>Avg Purchase Price</th>\n",
       "      <th>Item Count</th>\n",
       "      <th>Total\n",
       "Revenue</th>\n",
       "      <th>Total \n",
       "Purchase \n",
       "Count</th>\n",
       "    </tr>\n",
       "  </thead>\n",
       "  <tbody>\n",
       "    <tr>\n",
       "      <th>0</th>\n",
       "      <td>2.930571</td>\n",
       "      <td>184</td>\n",
       "      <td>2514.43</td>\n",
       "      <td>858</td>\n",
       "    </tr>\n",
       "  </tbody>\n",
       "</table>\n",
       "</div>"
      ],
      "text/plain": [
       "   Avg Purchase Price  Item Count  Total\\nRevenue  Total \\nPurchase \\nCount\n",
       "0            2.930571         184         2514.43                       858"
      ]
     },
     "execution_count": 10,
     "metadata": {},
     "output_type": "execute_result"
    }
   ],
   "source": [
    "#Purchasing Analysis (total)\n",
    "item_cnt = len(purch_df.groupby('Item ID'))\n",
    "avg_purch_price = purch_df['Price'].mean()\n",
    "total_purch_cnt = len(purch_df)\n",
    "total_revenue = purch_df['Price'].sum()\n",
    "purch_total = {'Item Count':[item_cnt], 'Avg Purchase Price':[avg_purch_price],\n",
    "              'Total \\nPurchase \\nCount':[total_purch_cnt],'Total\\nRevenue':[total_revenue]}\n",
    "purch_total_df = pd.DataFrame(data=purch_total)\n",
    "purch_total_df"
   ]
  },
  {
   "cell_type": "code",
   "execution_count": 11,
   "metadata": {
    "collapsed": true
   },
   "outputs": [],
   "source": [
    "# Isolate gender column and groupby\n",
    "gender = purch_df[['SN', 'Gender']]\n",
    "gender_df = gender.groupby('SN').first()"
   ]
  },
  {
   "cell_type": "code",
   "execution_count": 12,
   "metadata": {
    "collapsed": true
   },
   "outputs": [],
   "source": [
    "# Gender counts\n",
    "male_cnt = len(gender_df.loc[gender_df['Gender'] == 'Male'])\n",
    "female_cnt = len(gender_df.loc[gender_df['Gender'] == 'Female'])\n",
    "other_cnt = len(gender_df.loc[gender_df['Gender'] == 'Other / Non-Disclosed'])\n",
    "# Gender Percent\n",
    "male_pct = male_cnt/player_cnt\n",
    "female_pct = female_cnt/player_cnt\n",
    "other_pct = other_cnt/player_cnt"
   ]
  },
  {
   "cell_type": "code",
   "execution_count": 13,
   "metadata": {},
   "outputs": [
    {
     "data": {
      "text/html": [
       "<div>\n",
       "<style>\n",
       "    .dataframe thead tr:only-child th {\n",
       "        text-align: right;\n",
       "    }\n",
       "\n",
       "    .dataframe thead th {\n",
       "        text-align: left;\n",
       "    }\n",
       "\n",
       "    .dataframe tbody tr th {\n",
       "        vertical-align: top;\n",
       "    }\n",
       "</style>\n",
       "<table border=\"1\" class=\"dataframe\">\n",
       "  <thead>\n",
       "    <tr style=\"text-align: right;\">\n",
       "      <th></th>\n",
       "      <th>Female</th>\n",
       "      <th>Male</th>\n",
       "      <th>Other</th>\n",
       "    </tr>\n",
       "  </thead>\n",
       "  <tbody>\n",
       "    <tr>\n",
       "      <th>0</th>\n",
       "      <td>17.65%</td>\n",
       "      <td>80.88%</td>\n",
       "      <td>1.47%</td>\n",
       "    </tr>\n",
       "  </tbody>\n",
       "</table>\n",
       "</div>"
      ],
      "text/plain": [
       "   Female    Male  Other\n",
       "0  17.65%  80.88%  1.47%"
      ]
     },
     "execution_count": 13,
     "metadata": {},
     "output_type": "execute_result"
    }
   ],
   "source": [
    "# Create gender demographics df\n",
    "gender_demographics = {'Male':[male_pct],'Female':[female_pct],'Other':[other_pct]}\n",
    "gender_demographics_df = pd.DataFrame(data=gender_demographics)\n",
    "gender_demographics_df['Male'] = pd.Series([\"{0:.2f}%\".format(val * 100) for val in gender_demographics_df['Male']], index = gender_demographics_df.index)\n",
    "gender_demographics_df['Female'] = pd.Series([\"{0:.2f}%\".format(val * 100) for val in gender_demographics_df['Female']], index = gender_demographics_df.index)\n",
    "gender_demographics_df['Other'] = pd.Series([\"{0:.2f}%\".format(val * 100) for val in gender_demographics_df['Other']], index = gender_demographics_df.index)\n",
    "gender_demographics_df"
   ]
  },
  {
   "cell_type": "code",
   "execution_count": 14,
   "metadata": {
    "collapsed": true
   },
   "outputs": [],
   "source": [
    "# Gender Purchases\n",
    "male_purch_df = purch_df.loc[purch_df['Gender'] == 'Male']\n",
    "female_purch_df = purch_df.loc[purch_df['Gender'] == 'Female']\n",
    "other_purch_df = purch_df.loc[purch_df['Gender'] == 'Other / Non-Disclosed']\n",
    "\n",
    "# Gender price avg\n",
    "male_avg_purch = male_purch_df['Price'].mean()\n",
    "female_avg_purch = female_purch_df['Price'].mean()\n",
    "other_avg_purch = other_purch_df['Price'].mean()\n",
    "\n",
    "# Gender total purchase value\n",
    "male_total_purch = male_purch_df['Price'].sum()\n",
    "female_total_purch = female_purch_df['Price'].sum()\n",
    "other_total_purch = other_purch_df['Price'].sum()\n",
    "\n",
    "#Gender Normalized purchase Value\n",
    "male_Ntotal_purch = male_total_purch/male_cnt\n",
    "female_Ntotal_purch = female_total_purch/female_cnt\n",
    "other_Ntotal_purch = other_total_purch/other_cnt"
   ]
  },
  {
   "cell_type": "code",
   "execution_count": 65,
   "metadata": {},
   "outputs": [],
   "source": [
    "#Purchase Analysis (Gender)\n",
    "purch_analysis_gender = {'Gender':['Male','Female','Other'],\n",
    "                            'Purchase Count':[male_cnt, female_cnt, other_cnt],\n",
    "                            'Average Purchase':[male_avg_purch, female_avg_purch, other_avg_purch],\n",
    "                            'Total Purchase Value':[male_total_purch, female_total_purch, other_total_purch],\n",
    "                            'Normalized Purchase Value':[male_Ntotal_purch, female_Ntotal_purch, other_Ntotal_purch]}\n",
    "purch_analysis_gender_df = pd.DataFrame(data=purch_analysis_gender)"
   ]
  },
  {
   "cell_type": "code",
   "execution_count": 66,
   "metadata": {},
   "outputs": [
    {
     "data": {
      "text/html": [
       "<div>\n",
       "<style>\n",
       "    .dataframe thead tr:only-child th {\n",
       "        text-align: right;\n",
       "    }\n",
       "\n",
       "    .dataframe thead th {\n",
       "        text-align: left;\n",
       "    }\n",
       "\n",
       "    .dataframe tbody tr th {\n",
       "        vertical-align: top;\n",
       "    }\n",
       "</style>\n",
       "<table border=\"1\" class=\"dataframe\">\n",
       "  <thead>\n",
       "    <tr style=\"text-align: right;\">\n",
       "      <th></th>\n",
       "      <th>Gender</th>\n",
       "      <th>Purchase Count</th>\n",
       "      <th>Average Purchase</th>\n",
       "      <th>Total Purchase Value</th>\n",
       "      <th>Normalized Purchase Value</th>\n",
       "    </tr>\n",
       "  </thead>\n",
       "  <tbody>\n",
       "    <tr>\n",
       "      <th>0</th>\n",
       "      <td>Male</td>\n",
       "      <td>495</td>\n",
       "      <td>2.944448</td>\n",
       "      <td>2052.28</td>\n",
       "      <td>4.146020</td>\n",
       "    </tr>\n",
       "    <tr>\n",
       "      <th>1</th>\n",
       "      <td>Female</td>\n",
       "      <td>108</td>\n",
       "      <td>2.847584</td>\n",
       "      <td>424.29</td>\n",
       "      <td>3.928611</td>\n",
       "    </tr>\n",
       "    <tr>\n",
       "      <th>2</th>\n",
       "      <td>Other</td>\n",
       "      <td>9</td>\n",
       "      <td>3.155000</td>\n",
       "      <td>37.86</td>\n",
       "      <td>4.206667</td>\n",
       "    </tr>\n",
       "  </tbody>\n",
       "</table>\n",
       "</div>"
      ],
      "text/plain": [
       "   Gender  Purchase Count  Average Purchase  Total Purchase Value  \\\n",
       "0    Male             495          2.944448               2052.28   \n",
       "1  Female             108          2.847584                424.29   \n",
       "2   Other               9          3.155000                 37.86   \n",
       "\n",
       "   Normalized Purchase Value  \n",
       "0                   4.146020  \n",
       "1                   3.928611  \n",
       "2                   4.206667  "
      ]
     },
     "execution_count": 66,
     "metadata": {},
     "output_type": "execute_result"
    }
   ],
   "source": [
    "purch_analysis_gender_df = purch_analysis_gender_df[['Gender', 'Purchase Count','Average Purchase', 'Total Purchase Value','Normalized Purchase Value']]\n",
    "purch_analysis_gender_df"
   ]
  },
  {
   "cell_type": "code",
   "execution_count": 82,
   "metadata": {
    "collapsed": true
   },
   "outputs": [],
   "source": [
    "bins = [0, 10, 15, 20, 25, 30, 35, 60]\n",
    "\n",
    "# Create the names for the four bins\n",
    "group_names = ['<10', '10-14', '15-19','20-24', '25-29', '30-34','>34']\n",
    "purch_df['Age_Bin'] = pd.cut(purch_df[\"Age\"], bins, labels=group_names)"
   ]
  },
  {
   "cell_type": "code",
   "execution_count": 83,
   "metadata": {
    "collapsed": true
   },
   "outputs": [],
   "source": [
    "#Aggregate Data for bins\n",
    "purch_age_df = pd.DataFrame(purch_df.groupby(['Age_Bin'], as_index=False)\n",
    "                        .agg({'Gender':'count', \"Price\": [np.mean, np.sum]})\n",
    "                        )\n",
    "purch_age_df.columns = purch_age_df.columns.droplevel(1)"
   ]
  },
  {
   "cell_type": "code",
   "execution_count": 84,
   "metadata": {},
   "outputs": [
    {
     "data": {
      "text/html": [
       "<div>\n",
       "<style>\n",
       "    .dataframe thead tr:only-child th {\n",
       "        text-align: right;\n",
       "    }\n",
       "\n",
       "    .dataframe thead th {\n",
       "        text-align: left;\n",
       "    }\n",
       "\n",
       "    .dataframe tbody tr th {\n",
       "        vertical-align: top;\n",
       "    }\n",
       "</style>\n",
       "<table border=\"1\" class=\"dataframe\">\n",
       "  <thead>\n",
       "    <tr style=\"text-align: right;\">\n",
       "      <th></th>\n",
       "      <th>Age_Bin</th>\n",
       "      <th>Count</th>\n",
       "      <th>Mean</th>\n",
       "      <th>Sum</th>\n",
       "      <th>Total</th>\n",
       "      <th>NTotal</th>\n",
       "    </tr>\n",
       "  </thead>\n",
       "  <tbody>\n",
       "    <tr>\n",
       "      <th>0</th>\n",
       "      <td>&lt;10</td>\n",
       "      <td>42</td>\n",
       "      <td>2.958571</td>\n",
       "      <td>124.26</td>\n",
       "      <td>124.26</td>\n",
       "      <td>2.958571</td>\n",
       "    </tr>\n",
       "    <tr>\n",
       "      <th>1</th>\n",
       "      <td>10-14</td>\n",
       "      <td>86</td>\n",
       "      <td>2.890349</td>\n",
       "      <td>248.57</td>\n",
       "      <td>248.57</td>\n",
       "      <td>2.890349</td>\n",
       "    </tr>\n",
       "    <tr>\n",
       "      <th>2</th>\n",
       "      <td>15-19</td>\n",
       "      <td>224</td>\n",
       "      <td>2.848750</td>\n",
       "      <td>638.12</td>\n",
       "      <td>638.12</td>\n",
       "      <td>2.848750</td>\n",
       "    </tr>\n",
       "    <tr>\n",
       "      <th>3</th>\n",
       "      <td>20-24</td>\n",
       "      <td>371</td>\n",
       "      <td>2.974259</td>\n",
       "      <td>1103.45</td>\n",
       "      <td>1103.45</td>\n",
       "      <td>2.974259</td>\n",
       "    </tr>\n",
       "    <tr>\n",
       "      <th>4</th>\n",
       "      <td>25-29</td>\n",
       "      <td>84</td>\n",
       "      <td>2.873333</td>\n",
       "      <td>241.36</td>\n",
       "      <td>241.36</td>\n",
       "      <td>2.873333</td>\n",
       "    </tr>\n",
       "    <tr>\n",
       "      <th>5</th>\n",
       "      <td>30-34</td>\n",
       "      <td>72</td>\n",
       "      <td>2.933333</td>\n",
       "      <td>211.20</td>\n",
       "      <td>211.20</td>\n",
       "      <td>2.933333</td>\n",
       "    </tr>\n",
       "    <tr>\n",
       "      <th>6</th>\n",
       "      <td>&gt;34</td>\n",
       "      <td>57</td>\n",
       "      <td>3.080175</td>\n",
       "      <td>175.57</td>\n",
       "      <td>175.57</td>\n",
       "      <td>3.080175</td>\n",
       "    </tr>\n",
       "  </tbody>\n",
       "</table>\n",
       "</div>"
      ],
      "text/plain": [
       "  Age_Bin  Count      Mean      Sum    Total    NTotal\n",
       "0     <10     42  2.958571   124.26   124.26  2.958571\n",
       "1   10-14     86  2.890349   248.57   248.57  2.890349\n",
       "2   15-19    224  2.848750   638.12   638.12  2.848750\n",
       "3   20-24    371  2.974259  1103.45  1103.45  2.974259\n",
       "4   25-29     84  2.873333   241.36   241.36  2.873333\n",
       "5   30-34     72  2.933333   211.20   211.20  2.933333\n",
       "6     >34     57  3.080175   175.57   175.57  3.080175"
      ]
     },
     "execution_count": 84,
     "metadata": {},
     "output_type": "execute_result"
    }
   ],
   "source": [
    "purch_age2_df = pd.DataFrame(purch_df.groupby(['Age_Bin'], as_index=False)['Price'].sum()\n",
    "                            .rename(columns={'Price':'Total'}))\n",
    "\n",
    "merge_age_df = (pd.merge(purch_age_df,purch_age2_df, how='outer',on = 'Age_Bin')\n",
    "                .rename(columns={\"Gender\":\"Count\",'Price':'Mean'})\n",
    "               )\n",
    "\n",
    "merge_age_df.columns = ['Age_Bin','Count','Mean', 'Sum', 'Total']\n",
    "merge_age_df['NTotal'] = merge_age_df['Total']/merge_age_df['Count']\n",
    "merge_age_df"
   ]
  },
  {
   "cell_type": "code",
   "execution_count": 80,
   "metadata": {},
   "outputs": [
    {
     "data": {
      "text/html": [
       "<div>\n",
       "<style>\n",
       "    .dataframe thead tr:only-child th {\n",
       "        text-align: right;\n",
       "    }\n",
       "\n",
       "    .dataframe thead th {\n",
       "        text-align: left;\n",
       "    }\n",
       "\n",
       "    .dataframe tbody tr th {\n",
       "        vertical-align: top;\n",
       "    }\n",
       "</style>\n",
       "<table border=\"1\" class=\"dataframe\">\n",
       "  <thead>\n",
       "    <tr style=\"text-align: right;\">\n",
       "      <th></th>\n",
       "      <th>Player</th>\n",
       "      <th>Count</th>\n",
       "      <th>Mean</th>\n",
       "      <th>Sum</th>\n",
       "    </tr>\n",
       "  </thead>\n",
       "  <tbody>\n",
       "    <tr>\n",
       "      <th>22</th>\n",
       "      <td>Aerithllora36</td>\n",
       "      <td>5</td>\n",
       "      <td>3.950</td>\n",
       "      <td>19.75</td>\n",
       "    </tr>\n",
       "    <tr>\n",
       "      <th>574</th>\n",
       "      <td>Undirrala66</td>\n",
       "      <td>5</td>\n",
       "      <td>3.412</td>\n",
       "      <td>17.06</td>\n",
       "    </tr>\n",
       "    <tr>\n",
       "      <th>503</th>\n",
       "      <td>Sondim43</td>\n",
       "      <td>5</td>\n",
       "      <td>3.332</td>\n",
       "      <td>16.66</td>\n",
       "    </tr>\n",
       "    <tr>\n",
       "      <th>515</th>\n",
       "      <td>Sundaky74</td>\n",
       "      <td>4</td>\n",
       "      <td>3.705</td>\n",
       "      <td>14.82</td>\n",
       "    </tr>\n",
       "    <tr>\n",
       "      <th>360</th>\n",
       "      <td>Lisosiast26</td>\n",
       "      <td>4</td>\n",
       "      <td>3.475</td>\n",
       "      <td>13.90</td>\n",
       "    </tr>\n",
       "  </tbody>\n",
       "</table>\n",
       "</div>"
      ],
      "text/plain": [
       "            Player  Count   Mean    Sum\n",
       "22   Aerithllora36      5  3.950  19.75\n",
       "574    Undirrala66      5  3.412  17.06\n",
       "503       Sondim43      5  3.332  16.66\n",
       "515      Sundaky74      4  3.705  14.82\n",
       "360    Lisosiast26      4  3.475  13.90"
      ]
     },
     "execution_count": 80,
     "metadata": {},
     "output_type": "execute_result"
    }
   ],
   "source": [
    "purch_top_df = pd.DataFrame(purch_df.groupby(['SN'], as_index=False)\n",
    "                           .agg({'Item Name':'count', 'Price':[np.mean,np.sum]}))\n",
    "purch_top_df.columns = purch_top_df.columns.droplevel(1)\n",
    "purch_top_df.columns = ['Player','Count', 'Mean', 'Sum']\n",
    "\n",
    "purch_top_df.sort_values('Sum',ascending=False).head(5)\n"
   ]
  },
  {
   "cell_type": "code",
   "execution_count": 59,
   "metadata": {},
   "outputs": [
    {
     "data": {
      "text/html": [
       "<div>\n",
       "<style>\n",
       "    .dataframe thead tr:only-child th {\n",
       "        text-align: right;\n",
       "    }\n",
       "\n",
       "    .dataframe thead th {\n",
       "        text-align: left;\n",
       "    }\n",
       "\n",
       "    .dataframe tbody tr th {\n",
       "        vertical-align: top;\n",
       "    }\n",
       "</style>\n",
       "<table border=\"1\" class=\"dataframe\">\n",
       "  <thead>\n",
       "    <tr style=\"text-align: right;\">\n",
       "      <th></th>\n",
       "      <th>Item ID</th>\n",
       "      <th>Player</th>\n",
       "      <th>Count</th>\n",
       "      <th>Mean</th>\n",
       "      <th>Sum</th>\n",
       "    </tr>\n",
       "  </thead>\n",
       "  <tbody>\n",
       "    <tr>\n",
       "      <th>0</th>\n",
       "      <td>56</td>\n",
       "      <td>Final Critic</td>\n",
       "      <td>14</td>\n",
       "      <td>2.757143</td>\n",
       "      <td>38.60</td>\n",
       "    </tr>\n",
       "    <tr>\n",
       "      <th>1</th>\n",
       "      <td>8</td>\n",
       "      <td>Arcane Gem</td>\n",
       "      <td>12</td>\n",
       "      <td>2.445000</td>\n",
       "      <td>29.34</td>\n",
       "    </tr>\n",
       "    <tr>\n",
       "      <th>2</th>\n",
       "      <td>138</td>\n",
       "      <td>Stormcaller</td>\n",
       "      <td>12</td>\n",
       "      <td>3.349167</td>\n",
       "      <td>40.19</td>\n",
       "    </tr>\n",
       "    <tr>\n",
       "      <th>3</th>\n",
       "      <td>11</td>\n",
       "      <td>Betrayal, Whisper of Grieving Widows</td>\n",
       "      <td>11</td>\n",
       "      <td>2.350000</td>\n",
       "      <td>25.85</td>\n",
       "    </tr>\n",
       "    <tr>\n",
       "      <th>4</th>\n",
       "      <td>156</td>\n",
       "      <td>Trickster</td>\n",
       "      <td>10</td>\n",
       "      <td>2.322000</td>\n",
       "      <td>23.22</td>\n",
       "    </tr>\n",
       "  </tbody>\n",
       "</table>\n",
       "</div>"
      ],
      "text/plain": [
       "   Item ID                                Player  Count      Mean    Sum\n",
       "0       56                          Final Critic     14  2.757143  38.60\n",
       "1        8                            Arcane Gem     12  2.445000  29.34\n",
       "2      138                           Stormcaller     12  3.349167  40.19\n",
       "3       11  Betrayal, Whisper of Grieving Widows     11  2.350000  25.85\n",
       "4      156                             Trickster     10  2.322000  23.22"
      ]
     },
     "execution_count": 59,
     "metadata": {},
     "output_type": "execute_result"
    }
   ],
   "source": [
    "purch_topitem_df = pd.DataFrame(purch_df.groupby(['Item Name'], as_index=False)\n",
    "                           .agg({'SN':'count', 'Price':[np.mean,np.sum]}))\n",
    "purch_topitem_df.columns = purch_topitem_df.columns.droplevel(1)\n",
    "purch_topitem_df.columns = ['Player','Count', 'Mean', 'Sum']\n",
    "purch_topitem_df = purch_topitem_df.sort_values('Count',ascending=False).head(5)\n",
    "purch_topitem_df.reset_index(level=0, inplace=True)\n",
    "purch_topitem_df.rename(columns={'index':'Item ID'})"
   ]
  },
  {
   "cell_type": "code",
   "execution_count": 60,
   "metadata": {},
   "outputs": [
    {
     "data": {
      "text/html": [
       "<div>\n",
       "<style>\n",
       "    .dataframe thead tr:only-child th {\n",
       "        text-align: right;\n",
       "    }\n",
       "\n",
       "    .dataframe thead th {\n",
       "        text-align: left;\n",
       "    }\n",
       "\n",
       "    .dataframe tbody tr th {\n",
       "        vertical-align: top;\n",
       "    }\n",
       "</style>\n",
       "<table border=\"1\" class=\"dataframe\">\n",
       "  <thead>\n",
       "    <tr style=\"text-align: right;\">\n",
       "      <th></th>\n",
       "      <th>Item ID</th>\n",
       "      <th>Player</th>\n",
       "      <th>Count</th>\n",
       "      <th>Mean</th>\n",
       "      <th>Sum</th>\n",
       "    </tr>\n",
       "  </thead>\n",
       "  <tbody>\n",
       "    <tr>\n",
       "      <th>0</th>\n",
       "      <td>138</td>\n",
       "      <td>Stormcaller</td>\n",
       "      <td>12</td>\n",
       "      <td>3.349167</td>\n",
       "      <td>40.19</td>\n",
       "    </tr>\n",
       "    <tr>\n",
       "      <th>1</th>\n",
       "      <td>56</td>\n",
       "      <td>Final Critic</td>\n",
       "      <td>14</td>\n",
       "      <td>2.757143</td>\n",
       "      <td>38.60</td>\n",
       "    </tr>\n",
       "    <tr>\n",
       "      <th>2</th>\n",
       "      <td>113</td>\n",
       "      <td>Retribution Axe</td>\n",
       "      <td>9</td>\n",
       "      <td>4.140000</td>\n",
       "      <td>37.26</td>\n",
       "    </tr>\n",
       "    <tr>\n",
       "      <th>3</th>\n",
       "      <td>135</td>\n",
       "      <td>Splitter, Foe Of Subtlety</td>\n",
       "      <td>9</td>\n",
       "      <td>3.670000</td>\n",
       "      <td>33.03</td>\n",
       "    </tr>\n",
       "    <tr>\n",
       "      <th>4</th>\n",
       "      <td>133</td>\n",
       "      <td>Spectral Diamond Doomblade</td>\n",
       "      <td>7</td>\n",
       "      <td>4.250000</td>\n",
       "      <td>29.75</td>\n",
       "    </tr>\n",
       "  </tbody>\n",
       "</table>\n",
       "</div>"
      ],
      "text/plain": [
       "   Item ID                      Player  Count      Mean    Sum\n",
       "0      138                 Stormcaller     12  3.349167  40.19\n",
       "1       56                Final Critic     14  2.757143  38.60\n",
       "2      113             Retribution Axe      9  4.140000  37.26\n",
       "3      135   Splitter, Foe Of Subtlety      9  3.670000  33.03\n",
       "4      133  Spectral Diamond Doomblade      7  4.250000  29.75"
      ]
     },
     "execution_count": 60,
     "metadata": {},
     "output_type": "execute_result"
    }
   ],
   "source": [
    "#Most profitable item\n",
    "purch_topitem_df = pd.DataFrame(purch_df.groupby(['Item Name'], as_index=False)\n",
    "                           .agg({'SN':'count', 'Price':[np.mean,np.sum]}))\n",
    "purch_topitem_df.columns = purch_topitem_df.columns.droplevel(1)\n",
    "purch_topitem_df.columns = ['Player','Count', 'Mean', 'Sum']\n",
    "purch_topitem_df = purch_topitem_df.sort_values('Sum',ascending=False).head(5)\n",
    "purch_topitem_df.reset_index(level=0, inplace=True)\n",
    "purch_topitem_df.rename(columns={'index':'Item ID'})"
   ]
  },
  {
   "cell_type": "code",
   "execution_count": null,
   "metadata": {
    "collapsed": true
   },
   "outputs": [],
   "source": []
  }
 ],
 "metadata": {
  "kernelspec": {
   "display_name": "Python 3",
   "language": "python",
   "name": "python3"
  },
  "language_info": {
   "codemirror_mode": {
    "name": "ipython",
    "version": 3
   },
   "file_extension": ".py",
   "mimetype": "text/x-python",
   "name": "python",
   "nbconvert_exporter": "python",
   "pygments_lexer": "ipython3",
   "version": "3.6.2"
  }
 },
 "nbformat": 4,
 "nbformat_minor": 2
}
